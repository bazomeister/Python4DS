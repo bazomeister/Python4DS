{
 "cells": [
  {
   "cell_type": "markdown",
   "metadata": {},
   "source": [
    "# Session 6: Pandas I  \n",
    "\n",
    "## Overview  \n",
    "This session focuses on analyzing two datasets: Netflix and Titanic. Below is a summary of the exercises and their objectives using Pandas methods.  \n",
    "\n",
    "---\n",
    "\n",
    "## Netflix Dataset Exercises  \n",
    "\n",
    "1. **Identify Missing Ratings**  \n",
    "   - **Task**: Count the number of missing values in each column to assess the completeness of the data.  \n",
    "\n",
    "2. **Films from 2021 in Your Country**  \n",
    "   - **Task**: Replace missing values in the 'country' column with \"Unknown\" and identify films from 2021 that correspond to your country.  \n",
    "\n",
    "3. **Movies from 2020 with Complete Information**  \n",
    "   - **Task**: Filter the dataset to find movies from 2020 that have all necessary data fields populated.  \n",
    "\n",
    "4. **Year with the Most Titles**  \n",
    "   - **Task**: Determine which year had the highest number of entries in the dataset.  \n",
    "\n",
    "5. **Average Annual Releases Since 2010**  \n",
    "   - **Task**: Calculate the average number of titles released each year since 2010.  \n",
    "\n",
    "---\n",
    "\n",
    "## Titanic Dataset Exercises  \n",
    "\n",
    "1. **Gender-Based Survival Percentage**  \n",
    "   - **Task**: Calculate the survival rate for each gender by dividing the number of survivors by the total number of passengers in each gender group.  \n",
    "\n",
    "2. **Survival Percentage by Gender and Class**  \n",
    "   - **Task**: Compute survival rates for each combination of gender and passenger class to analyze trends across groups.  \n",
    "\n",
    "---"
   ]
  },
  {
   "cell_type": "markdown",
   "metadata": {},
   "source": [
    "#### Loading Data Sets"
   ]
  },
  {
   "cell_type": "code",
   "execution_count": 35,
   "metadata": {},
   "outputs": [],
   "source": [
    "import pandas as pd\n",
    "\n",
    "path = 'netflix_titles.csv'\n",
    "\n",
    "df = pd.read_csv(path)\n",
    "\n",
    "path = 'train_and_test2.csv'\n",
    "\n",
    "titanic = pd.read_csv(path)"
   ]
  },
  {
   "cell_type": "markdown",
   "metadata": {},
   "source": [
    "## Exercises\n",
    "\n",
    "### Pandas I\n",
    "\n",
    "Home exercises for Netflix:\n",
    "\n",
    "1. Is there any missing rating?\n",
    "2. How many films in 2021 correspond to your country?\n",
    "3. What's the number of movies in 2020 with full information?\n",
    "4. Give me the year with more titles,\n",
    "5. and what has been the average in terms of releases from 2010. \n",
    "\n",
    "And for Titanic:\n",
    "\n",
    "1. Calculate Gender-Based Survival Percentage\n",
    "2. Calculate Survival Percentage Grouped by Gender and Class\n",
    "\n",
    "---"
   ]
  },
  {
   "cell_type": "markdown",
   "metadata": {},
   "source": [
    "### Netflix\n",
    "\n",
    "#### Exercise 1:\n",
    "\n",
    "We will check if there are any missing value in the rating cloumn"
   ]
  },
  {
   "cell_type": "code",
   "execution_count": 36,
   "metadata": {},
   "outputs": [
    {
     "name": "stdout",
     "output_type": "stream",
     "text": [
      "Index([5989, 6827, 7312, 7537], dtype='int64')\n"
     ]
    }
   ],
   "source": [
    "# Select rows where the 'rating' column is NaN using the 'isnull' method\n",
    "missing_ratings_df = df[df['rating'].isnull()]\n",
    "\n",
    "# Displaying rows where 'rating' is NaN\n",
    "print(missing_ratings_df.index)\n"
   ]
  },
  {
   "cell_type": "markdown",
   "metadata": {},
   "source": [
    "### Exercise 2:\n",
    "\n",
    "Counting how many films were released in \"Egypt\""
   ]
  },
  {
   "cell_type": "code",
   "execution_count": 37,
   "metadata": {},
   "outputs": [
    {
     "name": "stdout",
     "output_type": "stream",
     "text": [
      "Number of movies from Egypt: 0\n"
     ]
    }
   ],
   "source": [
    "# Filtering rows where 'release_year' is 2021 and 'country' is Egypt and 'type' is 'Movie'\n",
    "films_2021_my_country = df[(df['release_year'] == 2021) & (df['country'] == \"Egypt\") & (df['type'] == 'Movie')]\n",
    "\n",
    "# Counting the number of rows in the filtered DataFrame to show amount of movies\n",
    "films_2021_my_country_count = films_2021_my_country.shape[0]\n",
    "\n",
    "print(f\"Number of movies from Egypt: {films_2021_my_country_count}\")"
   ]
  },
  {
   "cell_type": "markdown",
   "metadata": {},
   "source": [
    "### Exercise 3:\n",
    "\n",
    "Counting the number of films with full info from 2020\n",
    "\n"
   ]
  },
  {
   "cell_type": "code",
   "execution_count": 38,
   "metadata": {},
   "outputs": [
    {
     "name": "stdout",
     "output_type": "stream",
     "text": [
      "Number of movies from 2020 with full information: 442\n"
     ]
    }
   ],
   "source": [
    "# Filtering rows with .notnull() method, to eliminate rows with missing values\n",
    "movies_2020_full_info = df[(df['release_year'] == 2020) & (df.notnull().all(axis=1))] # .all(axis=1) to check all columns\n",
    "\n",
    "# Counting the number of rows in the filtered DataFrame to show amount of movies with full information\n",
    "movies_2020_full_info_count = movies_2020_full_info.shape[0]\n",
    "\n",
    "print(f\"Number of movies from 2020 with full information: {movies_2020_full_info_count}\")"
   ]
  },
  {
   "cell_type": "markdown",
   "metadata": {},
   "source": [
    "### Exercise 4:\n",
    "\n",
    "Finding the year with the most amount of titles"
   ]
  },
  {
   "cell_type": "code",
   "execution_count": 39,
   "metadata": {},
   "outputs": [
    {
     "name": "stdout",
     "output_type": "stream",
     "text": [
      "The yea with the most amount of titles is 2018 with 1147 titles\n"
     ]
    }
   ],
   "source": [
    "# Counting the number of movies per year using the 'value_counts' method\n",
    "titles_per_year = df['release_year'].value_counts()\n",
    "\n",
    "# Finding the year with the most titles using the 'idxmax' method\n",
    "year_with_most_titles = titles_per_year.idxmax()\n",
    "\n",
    "print(f\"The yea with the most amount of titles is {year_with_most_titles} with {titles_per_year[year_with_most_titles]} titles\") #checking for amount of titles"
   ]
  },
  {
   "cell_type": "markdown",
   "metadata": {},
   "source": [
    "### Exercise 5:\n",
    "\n",
    "calculating what average amount of realease from 2010 to the latest year"
   ]
  },
  {
   "cell_type": "code",
   "execution_count": 40,
   "metadata": {},
   "outputs": [
    {
     "name": "stdout",
     "output_type": "stream",
     "text": [
      "The average number of releases per year from 2010 onwards is 622.67.\n"
     ]
    }
   ],
   "source": [
    "# Filtering titles from 2010 onwards\n",
    "titles_from_2010 = df[df['release_year'] >= 2010]\n",
    "\n",
    "# Calculating the average realease per year\n",
    "average_releases_2010 = titles_from_2010['release_year'].value_counts().mean()\n",
    "\n",
    "print(f\"The average number of releases per year from 2010 onwards is {average_releases_2010:.2f}.\") #using .2f to round to 2 decimal places"
   ]
  },
  {
   "cell_type": "markdown",
   "metadata": {},
   "source": [
    "---\n",
    "### Titanic\n",
    "\n",
    "\n",
    "#### Exercise 1:\n",
    "\n",
    "In this exercise, we determine the survival rate for each gender by dividing the number of survivors by the total number of passengers in each gender group.\n"
   ]
  },
  {
   "cell_type": "code",
   "execution_count": 41,
   "metadata": {},
   "outputs": [
    {
     "name": "stdout",
     "output_type": "stream",
     "text": [
      "Male Survival Percentage: 12.93%\n",
      "Female Survival Percentage: 50.00%\n"
     ]
    }
   ],
   "source": [
    "# Grouping data by 'Sex' and calculating the mean of survival rate\n",
    "gender_survival_percentage = titanic.groupby('Sex')['2urvived'].mean()\n",
    "\n",
    "print(f\"Male Survival Percentage: {gender_survival_percentage[0] * 100:.2f}%\")    # 0 for Male.\n",
    "print(f\"Female Survival Percentage: {gender_survival_percentage[1] * 100:.2f}%\")  # 1 for Female."
   ]
  },
  {
   "cell_type": "markdown",
   "metadata": {},
   "source": [
    "#### Exercise 2:\n",
    "\n",
    "In this exercise, we calculate the survival rate for each combination of gender and class.\n"
   ]
  },
  {
   "cell_type": "code",
   "execution_count": 42,
   "metadata": {},
   "outputs": [
    {
     "name": "stdout",
     "output_type": "stream",
     "text": [
      "Male in Class 1: 25.14% survival rate\n",
      "Male in Class 2: 9.94% survival rate\n",
      "Male in Class 3: 9.53% survival rate\n",
      "Female in Class 1: 63.19% survival rate\n",
      "Female in Class 2: 66.04% survival rate\n",
      "Female in Class 3: 33.33% survival rate\n"
     ]
    }
   ],
   "source": [
    "# Grouping data by 'Sex' and 'Pclass' and calculating mean survival rate\n",
    "gender_class_survival_percentage = titanic.groupby(['Sex', 'Pclass'])['2urvived'].mean()\n",
    "\n",
    "# Printing the results in a loop to display each class individually\n",
    "for (sex, pclass), percentage in gender_class_survival_percentage.items():\n",
    "    gender = \"Male\" if sex == 0 else \"Female\" \n",
    "    print(f\"{gender} in Class {pclass}: {percentage * 100:.2f}% survival rate\")"
   ]
  }
 ],
 "metadata": {
  "kernelspec": {
   "display_name": ".conda",
   "language": "python",
   "name": "python3"
  },
  "language_info": {
   "codemirror_mode": {
    "name": "ipython",
    "version": 3
   },
   "file_extension": ".py",
   "mimetype": "text/x-python",
   "name": "python",
   "nbconvert_exporter": "python",
   "pygments_lexer": "ipython3",
   "version": "3.11.10"
  }
 },
 "nbformat": 4,
 "nbformat_minor": 2
}
