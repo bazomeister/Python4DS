{
 "cells": [
  {
   "cell_type": "markdown",
   "metadata": {},
   "source": [
    "# Session 7: DataFrame Manipulations with Pandas  \n",
    "\n",
    "## Overview  \n",
    "This session focuses on performing various DataFrame manipulations using Python's pandas library. The tasks involve creating new columns, merging DataFrames, and extracting specific details from text columns. These exercises aim to enhance your data preprocessing and transformation skills.  \n",
    "\n",
    "---\n",
    "\n",
    "## Exercises  \n",
    "\n",
    "1. **Creating Professor Initials**  \n",
    "   - Extract the initials of each professor's first and last names and store them in a new column called `professor_initials`.  \n",
    "\n",
    "2. **Join DataFrames on Professor Column**  \n",
    "   - Combine the original DataFrame with a new DataFrame (`df_courses`) using the `professor` column as the key.  \n",
    "\n",
    "3. **Merge DataFrames to Include Course Information**  \n",
    "   - Merge the original DataFrame and `df_courses` based on the common `professor` column to add course information for each professor.  \n",
    "\n",
    "4. **Extract Professor Last Names**  \n",
    "   - Use string operations to extract the last name of each professor from the `professor` column and store it in a new column called `professor_last_name`.  \n",
    "\n",
    "   ---"
   ]
  },
  {
   "cell_type": "code",
   "execution_count": 1,
   "metadata": {},
   "outputs": [],
   "source": [
    "# Importing pandas and data\n",
    "\n",
    "import pandas as pd\n",
    "\n",
    "data = {\n",
    "    'professor': ['Ludmila Kuncheva', 'Antonio Torralba', 'Manuel Gonzalez', 'Bastian Leibe'],\n",
    "    'department': ['Computer Science', 'Computer Vision', 'AI & Robotics', 'Autonomous Systems'],\n",
    "    'age': [45, 50, 47, 38]\n",
    "}\n",
    "\n",
    "df = pd.DataFrame(data)"
   ]
  },
  {
   "cell_type": "markdown",
   "metadata": {},
   "source": [
    "#### Exercise 1:"
   ]
  },
  {
   "cell_type": "code",
   "execution_count": 2,
   "metadata": {},
   "outputs": [
    {
     "name": "stdout",
     "output_type": "stream",
     "text": [
      "          professor          department  age professor_initials\n",
      "0  Ludmila Kuncheva    Computer Science   45                 LK\n",
      "1  Antonio Torralba     Computer Vision   50                 AT\n",
      "2   Manuel Gonzalez       AI & Robotics   47                 MG\n",
      "3     Bastian Leibe  Autonomous Systems   38                 BL\n"
     ]
    }
   ],
   "source": [
    "# Creating a new column for professor initials using lambda function and apply method\n",
    "\n",
    "df['professor_initials'] = df['professor'].apply(lambda name: ''.join([part[0].upper() for part in name.split()]))\n",
    "\n",
    "print(df)"
   ]
  },
  {
   "cell_type": "markdown",
   "metadata": {},
   "source": [
    "#### Exercise 2:"
   ]
  },
  {
   "cell_type": "code",
   "execution_count": 3,
   "metadata": {},
   "outputs": [
    {
     "name": "stdout",
     "output_type": "stream",
     "text": [
      "          professor          department  age professor_initials  \\\n",
      "0  Ludmila Kuncheva    Computer Science   45                 LK   \n",
      "1  Antonio Torralba     Computer Vision   50                 AT   \n",
      "2   Manuel Gonzalez       AI & Robotics   47                 MG   \n",
      "3     Bastian Leibe  Autonomous Systems   38                 BL   \n",
      "\n",
      "             courses  \n",
      "0   Machine Learning  \n",
      "1    Computer Vision  \n",
      "2     AI Programming  \n",
      "3  Self-Driving Cars  \n"
     ]
    }
   ],
   "source": [
    "courses_data = {\n",
    "    'professor': ['Ludmila Kuncheva', 'Antonio Torralba', 'Manuel Gonzalez', 'Bastian Leibe'],\n",
    "    'courses': ['Machine Learning', 'Computer Vision', 'AI Programming', 'Self-Driving Cars']\n",
    "}\n",
    "df_courses = pd.DataFrame(courses_data)\n",
    "\n",
    "# Using .join by aligning on the 'professor' column\n",
    "\n",
    "df_combined = df.join(df_courses.set_index('professor'), on='professor')\n",
    "\n",
    "print(df_combined)"
   ]
  },
  {
   "cell_type": "markdown",
   "metadata": {},
   "source": [
    "#### Exercise 3:"
   ]
  },
  {
   "cell_type": "code",
   "execution_count": 4,
   "metadata": {},
   "outputs": [
    {
     "name": "stdout",
     "output_type": "stream",
     "text": [
      "          professor          department  age            courses\n",
      "0  Ludmila Kuncheva    Computer Science   45   Machine Learning\n",
      "1  Antonio Torralba     Computer Vision   50    Computer Vision\n",
      "2   Manuel Gonzalez       AI & Robotics   47     AI Programming\n",
      "3     Bastian Leibe  Autonomous Systems   38  Self-Driving Cars\n"
     ]
    }
   ],
   "source": [
    "#rerun the origianl df to ger rid of the initial column\n",
    "data = {\n",
    "    'professor': ['Ludmila Kuncheva', 'Antonio Torralba', 'Manuel Gonzalez', 'Bastian Leibe'],\n",
    "    'department': ['Computer Science', 'Computer Vision', 'AI & Robotics', 'Autonomous Systems'],\n",
    "    'age': [45, 50, 47, 38]\n",
    "}\n",
    "df_original = pd.DataFrame(data)\n",
    "\n",
    "\n",
    "# Courses DataFrame\n",
    "\n",
    "courses_data = {\n",
    "    'professor': ['Ludmila Kuncheva', 'Antonio Torralba', 'Manuel Gonzalez', 'Bastian Leibe'],\n",
    "    'courses': ['Machine Learning', 'Computer Vision', 'AI Programming', 'Self-Driving Cars']\n",
    "}\n",
    "df_courses = pd.DataFrame(courses_data)\n",
    "\n",
    "# Merging origanal df and new courses DataFrames with .merge method\n",
    "\n",
    "combined_df = pd.merge(df_original, df_courses, on='professor')\n",
    "\n",
    "print(combined_df)"
   ]
  },
  {
   "cell_type": "markdown",
   "metadata": {},
   "source": [
    "#### Exercise 4:"
   ]
  },
  {
   "cell_type": "code",
   "execution_count": 5,
   "metadata": {},
   "outputs": [
    {
     "name": "stdout",
     "output_type": "stream",
     "text": [
      "          professor          department  age professor_initials  \\\n",
      "0  Ludmila Kuncheva    Computer Science   45                 LK   \n",
      "1  Antonio Torralba     Computer Vision   50                 AT   \n",
      "2   Manuel Gonzalez       AI & Robotics   47                 MG   \n",
      "3     Bastian Leibe  Autonomous Systems   38                 BL   \n",
      "\n",
      "  professor_last_name  \n",
      "0            Kuncheva  \n",
      "1            Torralba  \n",
      "2            Gonzalez  \n",
      "3               Leibe  \n"
     ]
    }
   ],
   "source": [
    "# Creating new column for professor last names with lambda function and apply method\n",
    "\n",
    "df['professor_last_name'] = df['professor'].apply(lambda name: name.split()[-1])\n",
    "\n",
    "print(df)"
   ]
  },
  {
   "cell_type": "code",
   "execution_count": null,
   "metadata": {},
   "outputs": [],
   "source": []
  }
 ],
 "metadata": {
  "kernelspec": {
   "display_name": ".conda",
   "language": "python",
   "name": "python3"
  },
  "language_info": {
   "codemirror_mode": {
    "name": "ipython",
    "version": 3
   },
   "file_extension": ".py",
   "mimetype": "text/x-python",
   "name": "python",
   "nbconvert_exporter": "python",
   "pygments_lexer": "ipython3",
   "version": "3.11.10"
  }
 },
 "nbformat": 4,
 "nbformat_minor": 2
}
